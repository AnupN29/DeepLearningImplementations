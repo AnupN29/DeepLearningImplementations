{
 "cells": [
  {
   "attachments": {},
   "cell_type": "markdown",
   "metadata": {},
   "source": [
    "### Importing Files and Loading CIFAR10 Dataset"
   ]
  },
  {
   "cell_type": "code",
   "execution_count": 2,
   "metadata": {},
   "outputs": [],
   "source": [
    "# importing packages\n",
    "import tensorflow as tf\n",
    "from tensorflow import keras\n",
    "import numpy as np \n",
    "import pandas as pd \n",
    "from matplotlib import pyplot as plt\n",
    "import cv2 \n"
   ]
  },
  {
   "cell_type": "code",
   "execution_count": 3,
   "metadata": {},
   "outputs": [],
   "source": [
    "cifar10 = keras.datasets.cifar10\n",
    "\n",
    "(x_train, y_train) , (x_test, y_test) = cifar10.load_data()\n",
    "\n"
   ]
  },
  {
   "attachments": {},
   "cell_type": "markdown",
   "metadata": {},
   "source": [
    "### Creating CNN from Keras Sequential Models, Traing and Testing the model"
   ]
  },
  {
   "cell_type": "code",
   "execution_count": 41,
   "metadata": {},
   "outputs": [],
   "source": [
    "cnn = tf.keras.models.Sequential([\n",
    "  keras.layers.BatchNormalization(input_shape=(32,32,3)),\n",
    "  keras.layers.Conv2D(filters= 32,kernel_size = (3,3) ,activation='relu'),\n",
    "  keras.layers.MaxPool2D(),\n",
    "  keras.layers.Conv2D(filters= 64,kernel_size = (3,3) ,activation='relu'),\n",
    "  keras.layers.MaxPool2D(),\n",
    "  keras.layers.Flatten(),\n",
    "  keras.layers.Dense(64),\n",
    "  keras.layers.BatchNormalization(),\n",
    "  keras.layers.ReLU(),\n",
    "  keras.layers.Dense(10, activation='softmax')\n",
    "])"
   ]
  },
  {
   "cell_type": "code",
   "execution_count": 10,
   "metadata": {},
   "outputs": [],
   "source": [
    "cnn.compile(optimizer='adam',loss=keras.losses.SparseCategoricalCrossentropy(),metrics=['accuracy'])\n"
   ]
  },
  {
   "cell_type": "code",
   "execution_count": 11,
   "metadata": {},
   "outputs": [
    {
     "name": "stdout",
     "output_type": "stream",
     "text": [
      "Epoch 1/5\n",
      "1563/1563 [==============================] - 52s 32ms/step - loss: 1.2529 - accuracy: 0.5590\n",
      "Epoch 2/5\n",
      "1563/1563 [==============================] - 48s 31ms/step - loss: 0.9266 - accuracy: 0.6771\n",
      "Epoch 3/5\n",
      "1563/1563 [==============================] - 47s 30ms/step - loss: 0.7864 - accuracy: 0.7261\n",
      "Epoch 4/5\n",
      "1563/1563 [==============================] - 47s 30ms/step - loss: 0.6901 - accuracy: 0.7584\n",
      "Epoch 5/5\n",
      "1563/1563 [==============================] - 48s 30ms/step - loss: 0.6130 - accuracy: 0.7859\n"
     ]
    },
    {
     "data": {
      "text/plain": [
       "<keras.callbacks.History at 0x7f31d7882da0>"
      ]
     },
     "execution_count": 11,
     "metadata": {},
     "output_type": "execute_result"
    }
   ],
   "source": [
    "cnn.fit(x_train, y_train,epochs=5)"
   ]
  },
  {
   "cell_type": "code",
   "execution_count": 12,
   "metadata": {},
   "outputs": [
    {
     "name": "stdout",
     "output_type": "stream",
     "text": [
      "313/313 - 3s - loss: 0.8630 - accuracy: 0.7089 - 3s/epoch - 8ms/step\n"
     ]
    },
    {
     "data": {
      "text/plain": [
       "[0.8629895448684692, 0.708899974822998]"
      ]
     },
     "execution_count": 12,
     "metadata": {},
     "output_type": "execute_result"
    }
   ],
   "source": [
    "cnn.evaluate(x_test,  y_test, verbose=2)\n"
   ]
  },
  {
   "attachments": {},
   "cell_type": "markdown",
   "metadata": {},
   "source": [
    "### Loading VGG16 Pre-trained model and using transfer learnig to use this model on CIFAR10 dataset"
   ]
  },
  {
   "cell_type": "code",
   "execution_count": 11,
   "metadata": {},
   "outputs": [],
   "source": [
    "from tensorflow.keras.applications.vgg16 import VGG16\n",
    "\n",
    "\n",
    "baseModelVGG16 = VGG16(weights='imagenet', include_top=False, input_shape=(64, 64, 3))\n",
    "for layer in baseModelVGG16.layers:\n",
    "     layer.trainable = False\n",
    "\n",
    "x = keras.layers.GlobalAveragePooling2D()(baseModelVGG16.get_layer('block3_pool').output)\n",
    "x = keras.layers.BatchNormalization()(x)\n",
    "x = keras.layers.Dense(256, activation='relu')(x)\n",
    "x = keras.layers.Dense(256, activation='relu')(x)\n",
    "x = keras.layers.Dropout(0.6)(x)\n",
    "pred = keras.layers.Dense(10, activation='softmax')(x)\n",
    "VGG16model = keras.Model(baseModelVGG16.input, pred)\n",
    "\n"
   ]
  },
  {
   "cell_type": "code",
   "execution_count": 12,
   "metadata": {},
   "outputs": [
    {
     "name": "stdout",
     "output_type": "stream",
     "text": [
      "Model: \"model_3\"\n",
      "_________________________________________________________________\n",
      " Layer (type)                Output Shape              Param #   \n",
      "=================================================================\n",
      " input_4 (InputLayer)        [(None, 64, 64, 3)]       0         \n",
      "                                                                 \n",
      " block1_conv1 (Conv2D)       (None, 64, 64, 64)        1792      \n",
      "                                                                 \n",
      " block1_conv2 (Conv2D)       (None, 64, 64, 64)        36928     \n",
      "                                                                 \n",
      " block1_pool (MaxPooling2D)  (None, 32, 32, 64)        0         \n",
      "                                                                 \n",
      " block2_conv1 (Conv2D)       (None, 32, 32, 128)       73856     \n",
      "                                                                 \n",
      " block2_conv2 (Conv2D)       (None, 32, 32, 128)       147584    \n",
      "                                                                 \n",
      " block2_pool (MaxPooling2D)  (None, 16, 16, 128)       0         \n",
      "                                                                 \n",
      " block3_conv1 (Conv2D)       (None, 16, 16, 256)       295168    \n",
      "                                                                 \n",
      " block3_conv2 (Conv2D)       (None, 16, 16, 256)       590080    \n",
      "                                                                 \n",
      " block3_conv3 (Conv2D)       (None, 16, 16, 256)       590080    \n",
      "                                                                 \n",
      " block3_pool (MaxPooling2D)  (None, 8, 8, 256)         0         \n",
      "                                                                 \n",
      " global_average_pooling2d_3   (None, 256)              0         \n",
      " (GlobalAveragePooling2D)                                        \n",
      "                                                                 \n",
      " batch_normalization_3 (Batc  (None, 256)              1024      \n",
      " hNormalization)                                                 \n",
      "                                                                 \n",
      " dense_9 (Dense)             (None, 256)               65792     \n",
      "                                                                 \n",
      " dense_10 (Dense)            (None, 256)               65792     \n",
      "                                                                 \n",
      " dropout_3 (Dropout)         (None, 256)               0         \n",
      "                                                                 \n",
      " dense_11 (Dense)            (None, 10)                2570      \n",
      "                                                                 \n",
      "=================================================================\n",
      "Total params: 1,870,666\n",
      "Trainable params: 134,666\n",
      "Non-trainable params: 1,736,000\n",
      "_________________________________________________________________\n"
     ]
    }
   ],
   "source": [
    "VGG16model.compile(optimizer='adam',loss=keras.losses.SparseCategoricalCrossentropy(),metrics=['accuracy'])\n",
    "VGG16model.summary()\n",
    "\n"
   ]
  },
  {
   "cell_type": "code",
   "execution_count": 7,
   "metadata": {},
   "outputs": [],
   "source": [
    "x_trainResized = []\n",
    "x_testResized = []\n",
    "for img in x_test:\n",
    "    imgResized = cv2.resize(img,(64,64),interpolation=cv2.INTER_AREA)\n",
    "    x_testResized.append(imgResized)\n",
    "\n",
    "x_testResized =np.array(x_testResized)\n",
    "\n",
    "for img in x_train:\n",
    "    imgResized = cv2.resize(img,(64,64),interpolation=cv2.INTER_AREA)\n",
    "    x_trainResized.append(imgResized)\n",
    "\n",
    "\n",
    "x_trainResized =np.array(x_trainResized)\n",
    "\n",
    "x_testResized = x_testResized/225.0\n",
    "x_trainResized = x_trainResized/225.0"
   ]
  },
  {
   "cell_type": "code",
   "execution_count": 13,
   "metadata": {},
   "outputs": [
    {
     "name": "stdout",
     "output_type": "stream",
     "text": [
      "Epoch 1/5\n"
     ]
    },
    {
     "name": "stderr",
     "output_type": "stream",
     "text": [
      "2022-12-28 14:49:29.707733: W tensorflow/tsl/framework/cpu_allocator_impl.cc:82] Allocation of 614400000 exceeds 10% of free system memory.\n"
     ]
    },
    {
     "name": "stdout",
     "output_type": "stream",
     "text": [
      "1563/1563 [==============================] - 738s 471ms/step - loss: 1.1484 - accuracy: 0.6017\n",
      "Epoch 2/5\n",
      "1563/1563 [==============================] - 742s 475ms/step - loss: 0.9366 - accuracy: 0.6779\n",
      "Epoch 3/5\n",
      "1563/1563 [==============================] - 823s 527ms/step - loss: 0.8690 - accuracy: 0.6990\n",
      "Epoch 4/5\n",
      "1563/1563 [==============================] - 850s 543ms/step - loss: 0.8249 - accuracy: 0.7159\n",
      "Epoch 5/5\n",
      "1563/1563 [==============================] - 875s 560ms/step - loss: 0.7858 - accuracy: 0.7284\n"
     ]
    },
    {
     "data": {
      "text/plain": [
       "<keras.callbacks.History at 0x7f3f5c79f160>"
      ]
     },
     "execution_count": 13,
     "metadata": {},
     "output_type": "execute_result"
    }
   ],
   "source": [
    "VGG16model.fit(x_trainResized, y_train,epochs=5)"
   ]
  },
  {
   "cell_type": "code",
   "execution_count": 14,
   "metadata": {},
   "outputs": [
    {
     "name": "stdout",
     "output_type": "stream",
     "text": [
      "313/313 - 148s - loss: 0.6795 - accuracy: 0.7596 - 148s/epoch - 474ms/step\n"
     ]
    },
    {
     "data": {
      "text/plain": [
       "[0.6794503927230835, 0.7595999836921692]"
      ]
     },
     "execution_count": 14,
     "metadata": {},
     "output_type": "execute_result"
    }
   ],
   "source": [
    "VGG16model.evaluate(x_testResized,  y_test, verbose=2)"
   ]
  }
 ],
 "metadata": {
  "kernelspec": {
   "display_name": "Python 3",
   "language": "python",
   "name": "python3"
  },
  "language_info": {
   "codemirror_mode": {
    "name": "ipython",
    "version": 3
   },
   "file_extension": ".py",
   "mimetype": "text/x-python",
   "name": "python",
   "nbconvert_exporter": "python",
   "pygments_lexer": "ipython3",
   "version": "3.10.6 (main, Nov 14 2022, 16:10:14) [GCC 11.3.0]"
  },
  "orig_nbformat": 4,
  "vscode": {
   "interpreter": {
    "hash": "916dbcbb3f70747c44a77c7bcd40155683ae19c65e1c03b4aa3499c5328201f1"
   }
  }
 },
 "nbformat": 4,
 "nbformat_minor": 2
}
