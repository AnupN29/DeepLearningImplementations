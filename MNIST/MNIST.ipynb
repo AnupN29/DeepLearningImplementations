{
 "cells": [
  {
   "cell_type": "code",
   "execution_count": 2,
   "metadata": {},
   "outputs": [],
   "source": [
    "# importing packages\n",
    "import tensorflow as tf\n",
    "from tensorflow import keras\n",
    "import numpy as np \n",
    "import pandas as pd \n",
    "from matplotlib import pyplot\n"
   ]
  },
  {
   "cell_type": "code",
   "execution_count": 3,
   "metadata": {},
   "outputs": [],
   "source": [
    "# installing MNIST dataset from Keras datasets\n",
    "mnist = keras.datasets.mnist\n",
    "\n",
    "(x_train, y_train) , (x_test, y_test) = mnist.load_data()"
   ]
  },
  {
   "cell_type": "code",
   "execution_count": 5,
   "metadata": {},
   "outputs": [],
   "source": [
    "model = tf.keras.models.Sequential([\n",
    "  # Preproccessing : flattening input and normalizing it\n",
    "  keras.layers.Flatten(input_shape=(28, 28)),\n",
    "  keras.layers.BatchNormalization(), \n",
    "  # Adding 1st Dense layers with neurons 128, with Batch Norm and Relu activation\n",
    "  tf.keras.layers.Dense(128),\n",
    "  keras.layers.BatchNormalization(),\n",
    "  keras.layers.ReLU(),\n",
    "  # finally adding the output layer\n",
    "  keras.layers.Dense(10, activation='softmax')\n",
    "])"
   ]
  },
  {
   "cell_type": "code",
   "execution_count": 7,
   "metadata": {},
   "outputs": [],
   "source": [
    "model.compile(optimizer='sgd',loss=keras.losses.SparseCategoricalCrossentropy(),metrics=['accuracy'])\n"
   ]
  },
  {
   "cell_type": "code",
   "execution_count": 8,
   "metadata": {},
   "outputs": [
    {
     "name": "stdout",
     "output_type": "stream",
     "text": [
      "Epoch 1/5\n"
     ]
    },
    {
     "name": "stderr",
     "output_type": "stream",
     "text": [
      "2022-12-31 01:34:03.948448: W tensorflow/tsl/framework/cpu_allocator_impl.cc:82] Allocation of 47040000 exceeds 10% of free system memory.\n"
     ]
    },
    {
     "name": "stdout",
     "output_type": "stream",
     "text": [
      "1875/1875 [==============================] - 7s 3ms/step - loss: 0.4854 - accuracy: 0.8633\n",
      "Epoch 2/5\n",
      "1875/1875 [==============================] - 6s 3ms/step - loss: 0.2752 - accuracy: 0.9214\n",
      "Epoch 3/5\n",
      "1875/1875 [==============================] - 6s 3ms/step - loss: 0.2274 - accuracy: 0.9348\n",
      "Epoch 4/5\n",
      "1875/1875 [==============================] - 6s 3ms/step - loss: 0.2013 - accuracy: 0.9428\n",
      "Epoch 5/5\n",
      "1875/1875 [==============================] - 6s 3ms/step - loss: 0.1814 - accuracy: 0.9489\n"
     ]
    },
    {
     "data": {
      "text/plain": [
       "<keras.callbacks.History at 0x7f54683fd6c0>"
      ]
     },
     "execution_count": 8,
     "metadata": {},
     "output_type": "execute_result"
    }
   ],
   "source": [
    "model.fit(x_train, y_train,epochs=5)"
   ]
  },
  {
   "cell_type": "code",
   "execution_count": 9,
   "metadata": {},
   "outputs": [
    {
     "name": "stdout",
     "output_type": "stream",
     "text": [
      "313/313 - 1s - loss: 0.2727 - accuracy: 0.9511 - 659ms/epoch - 2ms/step\n"
     ]
    },
    {
     "data": {
      "text/plain": [
       "[0.2727382481098175, 0.9510999917984009]"
      ]
     },
     "execution_count": 9,
     "metadata": {},
     "output_type": "execute_result"
    }
   ],
   "source": [
    "model.evaluate(x_test,  y_test, verbose=2)\n"
   ]
  },
  {
   "attachments": {},
   "cell_type": "markdown",
   "metadata": {},
   "source": [
    "## Hyperparameter Tuning\n",
    "\n",
    "### Basic Recipe for Machine Learning : we should plot loss vs iteration to decide tuning hyperparameters\n",
    "- If your algorithm has a high bias:\n",
    "\n",
    ". Try to make your NN bigger (size of hidden units, number of layers)\n",
    "\n",
    ". Try a different model that is suitable for your data.\n",
    "\n",
    ". Try to run it longer.\n",
    "\n",
    ". Different (advanced) optimization algorithms.\n",
    "\n",
    "- If your algorithm has a high variance:\n",
    "\n",
    ". More data.\n",
    "\n",
    ". Try regularization.\n",
    "\n",
    ". Try a different model that is suitable for your data.\n",
    "\n",
    "\n",
    "### Overfitting : Use Regularization\n",
    "\n",
    "- L2 & L1 \n",
    "- Dropout\n",
    "- Data Augmentation\n",
    "- Early Stopping\n",
    "\n",
    "### Optimisers \n",
    "\n",
    "- Simple gradient descent/ Batch gradient descent : batch size = total  no. of example (m) \n",
    "- Stochastic gradient descent (SGD) : batch size =1 (every noisy)\n",
    "- Mini-batch gradient descent : batch size = between 1 and m\n",
    "\n",
    ". Note : in TensorFlow we use same 'SGD' optimiser for all above 3, just change the batch size\n",
    "\n",
    "- RMProp : hyperparameters => 'beta'\n",
    "- Adam : hyperparameters => 'beta1' & 'beta2'\n",
    "\n",
    "### Normalisation: Speeds up training\n",
    "\n",
    "- Normalising Input \n",
    "- Batch-normalization : Normalizing differrent layers, note: you should use mini-batches \n",
    "\n",
    "### Learning Rate Decay:\n",
    "- It Decreses alpha i.e learning rate when reaching near minima making descent it less noisy\n"
   ]
  }
 ],
 "metadata": {
  "kernelspec": {
   "display_name": "Python 3.10.6 64-bit",
   "language": "python",
   "name": "python3"
  },
  "language_info": {
   "codemirror_mode": {
    "name": "ipython",
    "version": 3
   },
   "file_extension": ".py",
   "mimetype": "text/x-python",
   "name": "python",
   "nbconvert_exporter": "python",
   "pygments_lexer": "ipython3",
   "version": "3.10.6"
  },
  "orig_nbformat": 4,
  "vscode": {
   "interpreter": {
    "hash": "916dbcbb3f70747c44a77c7bcd40155683ae19c65e1c03b4aa3499c5328201f1"
   }
  }
 },
 "nbformat": 4,
 "nbformat_minor": 2
}
